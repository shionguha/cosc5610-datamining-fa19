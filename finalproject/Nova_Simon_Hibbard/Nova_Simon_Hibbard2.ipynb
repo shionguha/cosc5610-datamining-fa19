{
 "cells": [
  {
   "cell_type": "code",
   "execution_count": 2,
   "metadata": {},
   "outputs": [],
   "source": [
    "import pandas as pd\n",
    "\n",
    "data = pd.read_excel('data/Nova_Simon_Hibbard2.xlsx', error_bad_lines=False);\n",
    "data_text = data[['Summary']]\n",
    "documents = data_text"
   ]
  },
  {
   "cell_type": "code",
   "execution_count": 3,
   "metadata": {},
   "outputs": [
    {
     "data": {
      "text/plain": [
       "16565"
      ]
     },
     "execution_count": 3,
     "metadata": {},
     "output_type": "execute_result"
    }
   ],
   "source": [
    "len(documents)"
   ]
  },
  {
   "cell_type": "code",
   "execution_count": 4,
   "metadata": {},
   "outputs": [
    {
     "data": {
      "text/html": [
       "<div>\n",
       "<style scoped>\n",
       "    .dataframe tbody tr th:only-of-type {\n",
       "        vertical-align: middle;\n",
       "    }\n",
       "\n",
       "    .dataframe tbody tr th {\n",
       "        vertical-align: top;\n",
       "    }\n",
       "\n",
       "    .dataframe thead th {\n",
       "        text-align: right;\n",
       "    }\n",
       "</style>\n",
       "<table border=\"1\" class=\"dataframe\">\n",
       "  <thead>\n",
       "    <tr style=\"text-align: right;\">\n",
       "      <th></th>\n",
       "      <th>Summary</th>\n",
       "    </tr>\n",
       "  </thead>\n",
       "  <tbody>\n",
       "    <tr>\n",
       "      <td>0</td>\n",
       "      <td>ENGLISH TRANSLATION: 'A MESSAGE TO THE TRUTHFU...</td>\n",
       "    </tr>\n",
       "    <tr>\n",
       "      <td>1</td>\n",
       "      <td>ENGLISH TRANSLATION: SHEIKH FATIH AL JAWLANI '...</td>\n",
       "    </tr>\n",
       "    <tr>\n",
       "      <td>2</td>\n",
       "      <td>ENGLISH TRANSLATION: FIRST AUDIO MEETING WITH ...</td>\n",
       "    </tr>\n",
       "    <tr>\n",
       "      <td>3</td>\n",
       "      <td>ENGLISH TRANSLATION: SHEIKH NASIR AL WUHAYSHI ...</td>\n",
       "    </tr>\n",
       "    <tr>\n",
       "      <td>4</td>\n",
       "      <td>ENGLISH TRANSLATION: AQAP: 'RESPONSE TO SHEIKH...</td>\n",
       "    </tr>\n",
       "  </tbody>\n",
       "</table>\n",
       "</div>"
      ],
      "text/plain": [
       "                                             Summary\n",
       "0  ENGLISH TRANSLATION: 'A MESSAGE TO THE TRUTHFU...\n",
       "1  ENGLISH TRANSLATION: SHEIKH FATIH AL JAWLANI '...\n",
       "2  ENGLISH TRANSLATION: FIRST AUDIO MEETING WITH ...\n",
       "3  ENGLISH TRANSLATION: SHEIKH NASIR AL WUHAYSHI ...\n",
       "4  ENGLISH TRANSLATION: AQAP: 'RESPONSE TO SHEIKH..."
      ]
     },
     "execution_count": 4,
     "metadata": {},
     "output_type": "execute_result"
    }
   ],
   "source": [
    "documents[:5]"
   ]
  },
  {
   "cell_type": "code",
   "execution_count": 5,
   "metadata": {},
   "outputs": [],
   "source": [
    "import gensim\n",
    "from gensim.utils import simple_preprocess\n",
    "from gensim.parsing.preprocessing import STOPWORDS\n",
    "from nltk.stem import WordNetLemmatizer, SnowballStemmer\n",
    "from nltk.stem.porter import *\n",
    "import numpy as np\n",
    "np.random.seed(2018)"
   ]
  },
  {
   "cell_type": "code",
   "execution_count": 6,
   "metadata": {},
   "outputs": [
    {
     "name": "stderr",
     "output_type": "stream",
     "text": [
      "[nltk_data] Downloading package wordnet to\n",
      "[nltk_data]     /Users/fayikanova/nltk_data...\n",
      "[nltk_data]   Package wordnet is already up-to-date!\n"
     ]
    },
    {
     "data": {
      "text/plain": [
       "True"
      ]
     },
     "execution_count": 6,
     "metadata": {},
     "output_type": "execute_result"
    }
   ],
   "source": [
    "import nltk\n",
    "nltk.download('wordnet')"
   ]
  },
  {
   "cell_type": "code",
   "execution_count": 7,
   "metadata": {},
   "outputs": [
    {
     "name": "stdout",
     "output_type": "stream",
     "text": [
      "go\n"
     ]
    }
   ],
   "source": [
    "print(WordNetLemmatizer().lemmatize('went', pos='v'))"
   ]
  },
  {
   "cell_type": "code",
   "execution_count": 8,
   "metadata": {},
   "outputs": [
    {
     "data": {
      "text/html": [
       "<div>\n",
       "<style scoped>\n",
       "    .dataframe tbody tr th:only-of-type {\n",
       "        vertical-align: middle;\n",
       "    }\n",
       "\n",
       "    .dataframe tbody tr th {\n",
       "        vertical-align: top;\n",
       "    }\n",
       "\n",
       "    .dataframe thead th {\n",
       "        text-align: right;\n",
       "    }\n",
       "</style>\n",
       "<table border=\"1\" class=\"dataframe\">\n",
       "  <thead>\n",
       "    <tr style=\"text-align: right;\">\n",
       "      <th></th>\n",
       "      <th>original word</th>\n",
       "      <th>stemmed</th>\n",
       "    </tr>\n",
       "  </thead>\n",
       "  <tbody>\n",
       "    <tr>\n",
       "      <td>0</td>\n",
       "      <td>caresses</td>\n",
       "      <td>caress</td>\n",
       "    </tr>\n",
       "    <tr>\n",
       "      <td>1</td>\n",
       "      <td>flies</td>\n",
       "      <td>fli</td>\n",
       "    </tr>\n",
       "    <tr>\n",
       "      <td>2</td>\n",
       "      <td>dies</td>\n",
       "      <td>die</td>\n",
       "    </tr>\n",
       "    <tr>\n",
       "      <td>3</td>\n",
       "      <td>mules</td>\n",
       "      <td>mule</td>\n",
       "    </tr>\n",
       "    <tr>\n",
       "      <td>4</td>\n",
       "      <td>denied</td>\n",
       "      <td>deni</td>\n",
       "    </tr>\n",
       "    <tr>\n",
       "      <td>5</td>\n",
       "      <td>died</td>\n",
       "      <td>die</td>\n",
       "    </tr>\n",
       "    <tr>\n",
       "      <td>6</td>\n",
       "      <td>agreed</td>\n",
       "      <td>agre</td>\n",
       "    </tr>\n",
       "    <tr>\n",
       "      <td>7</td>\n",
       "      <td>owned</td>\n",
       "      <td>own</td>\n",
       "    </tr>\n",
       "    <tr>\n",
       "      <td>8</td>\n",
       "      <td>humbled</td>\n",
       "      <td>humbl</td>\n",
       "    </tr>\n",
       "    <tr>\n",
       "      <td>9</td>\n",
       "      <td>sized</td>\n",
       "      <td>size</td>\n",
       "    </tr>\n",
       "    <tr>\n",
       "      <td>10</td>\n",
       "      <td>meeting</td>\n",
       "      <td>meet</td>\n",
       "    </tr>\n",
       "    <tr>\n",
       "      <td>11</td>\n",
       "      <td>stating</td>\n",
       "      <td>state</td>\n",
       "    </tr>\n",
       "    <tr>\n",
       "      <td>12</td>\n",
       "      <td>siezing</td>\n",
       "      <td>siez</td>\n",
       "    </tr>\n",
       "    <tr>\n",
       "      <td>13</td>\n",
       "      <td>itemization</td>\n",
       "      <td>item</td>\n",
       "    </tr>\n",
       "    <tr>\n",
       "      <td>14</td>\n",
       "      <td>sensational</td>\n",
       "      <td>sensat</td>\n",
       "    </tr>\n",
       "    <tr>\n",
       "      <td>15</td>\n",
       "      <td>traditional</td>\n",
       "      <td>tradit</td>\n",
       "    </tr>\n",
       "    <tr>\n",
       "      <td>16</td>\n",
       "      <td>reference</td>\n",
       "      <td>refer</td>\n",
       "    </tr>\n",
       "    <tr>\n",
       "      <td>17</td>\n",
       "      <td>colonizer</td>\n",
       "      <td>colon</td>\n",
       "    </tr>\n",
       "    <tr>\n",
       "      <td>18</td>\n",
       "      <td>plotted</td>\n",
       "      <td>plot</td>\n",
       "    </tr>\n",
       "  </tbody>\n",
       "</table>\n",
       "</div>"
      ],
      "text/plain": [
       "   original word stemmed\n",
       "0       caresses  caress\n",
       "1          flies     fli\n",
       "2           dies     die\n",
       "3          mules    mule\n",
       "4         denied    deni\n",
       "5           died     die\n",
       "6         agreed    agre\n",
       "7          owned     own\n",
       "8        humbled   humbl\n",
       "9          sized    size\n",
       "10       meeting    meet\n",
       "11       stating   state\n",
       "12       siezing    siez\n",
       "13   itemization    item\n",
       "14   sensational  sensat\n",
       "15   traditional  tradit\n",
       "16     reference   refer\n",
       "17     colonizer   colon\n",
       "18       plotted    plot"
      ]
     },
     "execution_count": 8,
     "metadata": {},
     "output_type": "execute_result"
    }
   ],
   "source": [
    "stemmer = SnowballStemmer('english')\n",
    "original_words = ['caresses', 'flies', 'dies', 'mules', 'denied','died', 'agreed', 'owned', \n",
    "           'humbled', 'sized','meeting', 'stating', 'siezing', 'itemization','sensational', \n",
    "           'traditional', 'reference', 'colonizer','plotted']\n",
    "singles = [stemmer.stem(plural) for plural in original_words]\n",
    "pd.DataFrame(data = {'original word': original_words, 'stemmed': singles})"
   ]
  },
  {
   "cell_type": "code",
   "execution_count": 9,
   "metadata": {},
   "outputs": [],
   "source": [
    "def lemmatize_stemming(text):\n",
    "    return stemmer.stem(WordNetLemmatizer().lemmatize(text, pos='v'))\n",
    "\n",
    "def preprocess(text):\n",
    "    result = []\n",
    "    for token in gensim.utils.simple_preprocess(text):\n",
    "        if token not in gensim.parsing.preprocessing.STOPWORDS and len(token) > 3:\n",
    "            result.append(lemmatize_stemming(token))\n",
    "    return result"
   ]
  },
  {
   "cell_type": "code",
   "execution_count": 10,
   "metadata": {},
   "outputs": [],
   "source": [
    "processed_docs = documents['Summary'].astype(str).map(preprocess)"
   ]
  },
  {
   "cell_type": "code",
   "execution_count": 11,
   "metadata": {},
   "outputs": [
    {
     "data": {
      "text/plain": [
       "0    [english, translat, messag, truth, syria, shei...\n",
       "1    [english, translat, sheikh, fatih, jawlani, pe...\n",
       "2    [english, translat, audio, meet, sheikh, fatih...\n",
       "3    [english, translat, sheikh, nasir, wuhayshi, l...\n",
       "4    [english, translat, aqap, respons, sheikh, bag...\n",
       "5    [second, clip, seri, soldier, video, link, htt...\n",
       "6    [english, transcript, murabit, http, hujlj, kg...\n",
       "7    [english, translat, collect, word, lama, dawla...\n",
       "8    [aslm, share, account, previous, suspend, khal...\n",
       "9    [english, translat, aqap, statement, bless, ra...\n",
       "Name: Summary, dtype: object"
      ]
     },
     "execution_count": 11,
     "metadata": {},
     "output_type": "execute_result"
    }
   ],
   "source": [
    "processed_docs[:10]"
   ]
  },
  {
   "cell_type": "code",
   "execution_count": 12,
   "metadata": {},
   "outputs": [],
   "source": [
    "dictionary = gensim.corpora.Dictionary(processed_docs)"
   ]
  },
  {
   "cell_type": "code",
   "execution_count": 13,
   "metadata": {},
   "outputs": [
    {
     "name": "stdout",
     "output_type": "stream",
     "text": [
      "0 bzcscxzq\n",
      "1 english\n",
      "2 http\n",
      "3 maqdisi\n",
      "4 messag\n",
      "5 muham\n",
      "6 sheikh\n",
      "7 syria\n",
      "8 translat\n",
      "9 truth\n",
      "10 xfszsjvr\n"
     ]
    }
   ],
   "source": [
    "count = 0\n",
    "for k, v in dictionary.iteritems():\n",
    "    print(k, v)\n",
    "    count += 1\n",
    "    if count > 10:\n",
    "        break"
   ]
  },
  {
   "cell_type": "code",
   "execution_count": 14,
   "metadata": {},
   "outputs": [],
   "source": [
    "dictionary.filter_extremes(no_below=15, no_above=0.5, keep_n=100000)"
   ]
  },
  {
   "cell_type": "code",
   "execution_count": 15,
   "metadata": {},
   "outputs": [
    {
     "data": {
      "text/plain": [
       "[(219, 1), (464, 1), (623, 1), (915, 1), (1066, 1), (1148, 1), (1420, 1)]"
      ]
     },
     "execution_count": 15,
     "metadata": {},
     "output_type": "execute_result"
    }
   ],
   "source": [
    "bow_corpus = [dictionary.doc2bow(doc) for doc in processed_docs]\n",
    "bow_corpus[4310]"
   ]
  },
  {
   "cell_type": "code",
   "execution_count": 16,
   "metadata": {},
   "outputs": [
    {
     "name": "stdout",
     "output_type": "stream",
     "text": [
      "Word 219 (\"die\") appears 1 time.\n",
      "Word 464 (\"bomb\") appears 1 time.\n",
      "Word 623 (\"cluster\") appears 1 time.\n",
      "Word 915 (\"wayf\") appears 1 time.\n",
      "Word 1066 (\"explod\") appears 1 time.\n",
      "Word 1148 (\"student\") appears 1 time.\n",
      "Word 1420 (\"rer__\") appears 1 time.\n"
     ]
    }
   ],
   "source": [
    "bow_doc_4310 = bow_corpus[4310]\n",
    "\n",
    "for i in range(len(bow_doc_4310)):\n",
    "    print(\"Word {} (\\\"{}\\\") appears {} time.\".format(bow_doc_4310[i][0], \n",
    "                                                     dictionary[bow_doc_4310[i][0]], \n",
    "                                                     bow_doc_4310[i][1]))"
   ]
  },
  {
   "cell_type": "code",
   "execution_count": 17,
   "metadata": {},
   "outputs": [],
   "source": [
    "from gensim import corpora, models\n",
    "\n",
    "tfidf = models.TfidfModel(bow_corpus)\n"
   ]
  },
  {
   "cell_type": "code",
   "execution_count": 18,
   "metadata": {},
   "outputs": [],
   "source": [
    "corpus_tfidf = tfidf[bow_corpus]"
   ]
  },
  {
   "cell_type": "code",
   "execution_count": 19,
   "metadata": {},
   "outputs": [
    {
     "name": "stdout",
     "output_type": "stream",
     "text": [
      "[(0, 0.34493054413034635),\n",
      " (1, 0.497045147662217),\n",
      " (2, 0.4168438606487528),\n",
      " (3, 0.3508802280734451),\n",
      " (4, 0.2820665771118998),\n",
      " (5, 0.1376582816633768),\n",
      " (6, 0.3521443313090525),\n",
      " (7, 0.33849123443705564)]\n"
     ]
    }
   ],
   "source": [
    "from pprint import pprint\n",
    "\n",
    "for doc in corpus_tfidf:\n",
    "    pprint(doc)\n",
    "    break"
   ]
  },
  {
   "cell_type": "code",
   "execution_count": 20,
   "metadata": {},
   "outputs": [],
   "source": [
    "lda_model = gensim.models.LdaMulticore(bow_corpus, num_topics=3, id2word=dictionary, passes=2, workers=2)\n"
   ]
  },
  {
   "cell_type": "code",
   "execution_count": 21,
   "metadata": {},
   "outputs": [
    {
     "name": "stdout",
     "output_type": "stream",
     "text": [
      "Topic: 0 \n",
      "Words: 0.022*\"isi\" + 0.021*\"kill\" + 0.020*\"armi\" + 0.017*\"amaqag\" + 0.016*\"syria\" + 0.016*\"break\" + 0.015*\"iraqi\" + 0.015*\"near\" + 0.014*\"islamicst\" + 0.013*\"ramadi\"\n",
      "Topic: 1 \n",
      "Words: 0.029*\"isi\" + 0.019*\"kill\" + 0.014*\"aleppo\" + 0.012*\"muslim\" + 0.012*\"rebel\" + 0.012*\"attack\" + 0.010*\"syrian\" + 0.008*\"syria\" + 0.008*\"break\" + 0.008*\"say\"\n",
      "Topic: 2 \n",
      "Words: 0.024*\"scotsmaninfidel\" + 0.018*\"spicylatt\" + 0.017*\"sassysassyr\" + 0.016*\"kafirkati\" + 0.014*\"isi\" + 0.012*\"syria\" + 0.012*\"islam\" + 0.011*\"fight\" + 0.010*\"kill\" + 0.008*\"assad\"\n"
     ]
    }
   ],
   "source": [
    "for idx, topic in lda_model.print_topics(-1):\n",
    "    print('Topic: {} \\nWords: {}'.format(idx, topic))"
   ]
  },
  {
   "cell_type": "code",
   "execution_count": 22,
   "metadata": {},
   "outputs": [],
   "source": [
    "lda_model_tfidf = gensim.models.LdaMulticore(corpus_tfidf, num_topics=10, id2word=dictionary, passes=2, workers=4)"
   ]
  },
  {
   "cell_type": "code",
   "execution_count": 23,
   "metadata": {},
   "outputs": [
    {
     "name": "stdout",
     "output_type": "stream",
     "text": [
      "Topic: 0 Word: 0.009*\"like\" + 0.008*\"isi\" + 0.007*\"kill\" + 0.007*\"syria\" + 0.007*\"ramiallolah\" + 0.005*\"iraq\" + 0.005*\"today\" + 0.005*\"bomb\" + 0.005*\"assad\" + 0.005*\"akhi\"\n",
      "Topic: 1 Word: 0.011*\"islam\" + 0.010*\"state\" + 0.008*\"want\" + 0.008*\"syria\" + 0.007*\"isi\" + 0.007*\"media\" + 0.006*\"say\" + 0.006*\"fight\" + 0.006*\"assad\" + 0.006*\"http\"\n",
      "Topic: 2 Word: 0.011*\"kill\" + 0.011*\"iraqi\" + 0.010*\"armi\" + 0.010*\"isi\" + 0.009*\"allah\" + 0.009*\"islam\" + 0.008*\"soldier\" + 0.007*\"state\" + 0.007*\"attack\" + 0.007*\"destroy\"\n",
      "Topic: 3 Word: 0.017*\"isi\" + 0.012*\"syria\" + 0.008*\"kill\" + 0.007*\"assad\" + 0.007*\"islam\" + 0.007*\"palmyra\" + 0.007*\"near\" + 0.007*\"iraq\" + 0.006*\"ramiallolah\" + 0.006*\"soldier\"\n",
      "Topic: 4 Word: 0.009*\"kill\" + 0.008*\"assad\" + 0.008*\"isi\" + 0.008*\"islam\" + 0.007*\"muslim\" + 0.007*\"syria\" + 0.007*\"break\" + 0.006*\"state\" + 0.006*\"today\" + 0.006*\"aleppo\"\n",
      "Topic: 5 Word: 0.013*\"muslim\" + 0.010*\"khair\" + 0.007*\"syria\" + 0.007*\"read\" + 0.007*\"isi\" + 0.007*\"fight\" + 0.006*\"jazakallah\" + 0.006*\"islam\" + 0.006*\"aleppo\" + 0.006*\"group\"\n",
      "Topic: 6 Word: 0.011*\"syria\" + 0.011*\"isi\" + 0.008*\"kill\" + 0.008*\"news\" + 0.006*\"attack\" + 0.006*\"good\" + 0.006*\"armi\" + 0.006*\"rebel\" + 0.005*\"iraq\" + 0.005*\"know\"\n",
      "Topic: 7 Word: 0.009*\"kill\" + 0.008*\"isi\" + 0.007*\"syria\" + 0.006*\"uncle_samcoco\" + 0.006*\"know\" + 0.006*\"link\" + 0.006*\"true\" + 0.006*\"come\" + 0.005*\"children\" + 0.005*\"attack\"\n",
      "Topic: 8 Word: 0.013*\"follow\" + 0.012*\"islamicst\" + 0.011*\"break\" + 0.009*\"syria\" + 0.008*\"amaqag\" + 0.008*\"isi\" + 0.008*\"allah\" + 0.007*\"support\" + 0.006*\"caliphate_new\" + 0.005*\"http\"\n",
      "Topic: 9 Word: 0.012*\"kill\" + 0.012*\"isi\" + 0.011*\"iraq\" + 0.010*\"armi\" + 0.009*\"support\" + 0.007*\"pour\" + 0.007*\"soldier\" + 0.007*\"report\" + 0.006*\"attack\" + 0.006*\"syria\"\n"
     ]
    }
   ],
   "source": [
    "for idx, topic in lda_model_tfidf.print_topics(-1):\n",
    "    print('Topic: {} Word: {}'.format(idx, topic))"
   ]
  },
  {
   "cell_type": "code",
   "execution_count": 24,
   "metadata": {},
   "outputs": [
    {
     "data": {
      "text/plain": [
       "['wayf', 'rer__', 'student', 'die', 'cluster', 'bomb', 'explod']"
      ]
     },
     "execution_count": 24,
     "metadata": {},
     "output_type": "execute_result"
    }
   ],
   "source": [
    "processed_docs[4310]"
   ]
  },
  {
   "cell_type": "code",
   "execution_count": 25,
   "metadata": {},
   "outputs": [
    {
     "name": "stdout",
     "output_type": "stream",
     "text": [
      "\n",
      "Score: 0.8928377628326416\t \n",
      "Topic: 0.022*\"isi\" + 0.021*\"kill\" + 0.020*\"armi\" + 0.017*\"amaqag\" + 0.016*\"syria\" + 0.016*\"break\" + 0.015*\"iraqi\" + 0.015*\"near\" + 0.014*\"islamicst\" + 0.013*\"ramadi\"\n",
      "\n",
      "Score: 0.0551222562789917\t \n",
      "Topic: 0.024*\"scotsmaninfidel\" + 0.018*\"spicylatt\" + 0.017*\"sassysassyr\" + 0.016*\"kafirkati\" + 0.014*\"isi\" + 0.012*\"syria\" + 0.012*\"islam\" + 0.011*\"fight\" + 0.010*\"kill\" + 0.008*\"assad\"\n",
      "\n",
      "Score: 0.052039943635463715\t \n",
      "Topic: 0.029*\"isi\" + 0.019*\"kill\" + 0.014*\"aleppo\" + 0.012*\"muslim\" + 0.012*\"rebel\" + 0.012*\"attack\" + 0.010*\"syrian\" + 0.008*\"syria\" + 0.008*\"break\" + 0.008*\"say\"\n"
     ]
    }
   ],
   "source": [
    "for index, score in sorted(lda_model[bow_corpus[4310]], key=lambda tup: -1*tup[1]):\n",
    "    print(\"\\nScore: {}\\t \\nTopic: {}\".format(score, lda_model.print_topic(index, 10)))\n"
   ]
  },
  {
   "cell_type": "code",
   "execution_count": 26,
   "metadata": {},
   "outputs": [
    {
     "name": "stdout",
     "output_type": "stream",
     "text": [
      "\n",
      "Score: 0.6945732831954956\t \n",
      "Topic: 0.012*\"kill\" + 0.012*\"isi\" + 0.011*\"iraq\" + 0.010*\"armi\" + 0.009*\"support\" + 0.007*\"pour\" + 0.007*\"soldier\" + 0.007*\"report\" + 0.006*\"attack\" + 0.006*\"syria\"\n",
      "\n",
      "Score: 0.2053760141134262\t \n",
      "Topic: 0.013*\"follow\" + 0.012*\"islamicst\" + 0.011*\"break\" + 0.009*\"syria\" + 0.008*\"amaqag\" + 0.008*\"isi\" + 0.008*\"allah\" + 0.007*\"support\" + 0.006*\"caliphate_new\" + 0.005*\"http\"\n",
      "\n",
      "Score: 0.012508618645370007\t \n",
      "Topic: 0.017*\"isi\" + 0.012*\"syria\" + 0.008*\"kill\" + 0.007*\"assad\" + 0.007*\"islam\" + 0.007*\"palmyra\" + 0.007*\"near\" + 0.007*\"iraq\" + 0.006*\"ramiallolah\" + 0.006*\"soldier\"\n",
      "\n",
      "Score: 0.012508576735854149\t \n",
      "Topic: 0.011*\"syria\" + 0.011*\"isi\" + 0.008*\"kill\" + 0.008*\"news\" + 0.006*\"attack\" + 0.006*\"good\" + 0.006*\"armi\" + 0.006*\"rebel\" + 0.005*\"iraq\" + 0.005*\"know\"\n",
      "\n",
      "Score: 0.012507087551057339\t \n",
      "Topic: 0.009*\"like\" + 0.008*\"isi\" + 0.007*\"kill\" + 0.007*\"syria\" + 0.007*\"ramiallolah\" + 0.005*\"iraq\" + 0.005*\"today\" + 0.005*\"bomb\" + 0.005*\"assad\" + 0.005*\"akhi\"\n",
      "\n",
      "Score: 0.012506473809480667\t \n",
      "Topic: 0.009*\"kill\" + 0.008*\"assad\" + 0.008*\"isi\" + 0.008*\"islam\" + 0.007*\"muslim\" + 0.007*\"syria\" + 0.007*\"break\" + 0.006*\"state\" + 0.006*\"today\" + 0.006*\"aleppo\"\n",
      "\n",
      "Score: 0.012505500577390194\t \n",
      "Topic: 0.013*\"muslim\" + 0.010*\"khair\" + 0.007*\"syria\" + 0.007*\"read\" + 0.007*\"isi\" + 0.007*\"fight\" + 0.006*\"jazakallah\" + 0.006*\"islam\" + 0.006*\"aleppo\" + 0.006*\"group\"\n",
      "\n",
      "Score: 0.012505007907748222\t \n",
      "Topic: 0.011*\"islam\" + 0.010*\"state\" + 0.008*\"want\" + 0.008*\"syria\" + 0.007*\"isi\" + 0.007*\"media\" + 0.006*\"say\" + 0.006*\"fight\" + 0.006*\"assad\" + 0.006*\"http\"\n",
      "\n",
      "Score: 0.012504938058555126\t \n",
      "Topic: 0.009*\"kill\" + 0.008*\"isi\" + 0.007*\"syria\" + 0.006*\"uncle_samcoco\" + 0.006*\"know\" + 0.006*\"link\" + 0.006*\"true\" + 0.006*\"come\" + 0.005*\"children\" + 0.005*\"attack\"\n",
      "\n",
      "Score: 0.012504459358751774\t \n",
      "Topic: 0.011*\"kill\" + 0.011*\"iraqi\" + 0.010*\"armi\" + 0.010*\"isi\" + 0.009*\"allah\" + 0.009*\"islam\" + 0.008*\"soldier\" + 0.007*\"state\" + 0.007*\"attack\" + 0.007*\"destroy\"\n"
     ]
    }
   ],
   "source": [
    "for index, score in sorted(lda_model_tfidf[bow_corpus[4310]], key=lambda tup: -1*tup[1]):\n",
    "    print(\"\\nScore: {}\\t \\nTopic: {}\".format(score, lda_model_tfidf.print_topic(index, 10)))"
   ]
  }
 ],
 "metadata": {
  "kernelspec": {
   "display_name": "Python 3",
   "language": "python",
   "name": "python3"
  },
  "language_info": {
   "codemirror_mode": {
    "name": "ipython",
    "version": 3
   },
   "file_extension": ".py",
   "mimetype": "text/x-python",
   "name": "python",
   "nbconvert_exporter": "python",
   "pygments_lexer": "ipython3",
   "version": "3.7.4"
  }
 },
 "nbformat": 4,
 "nbformat_minor": 2
}
